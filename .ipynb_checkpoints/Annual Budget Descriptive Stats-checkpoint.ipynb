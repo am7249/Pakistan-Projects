{
 "cells": [
  {
   "cell_type": "code",
   "execution_count": 1,
   "metadata": {},
   "outputs": [],
   "source": [
    "from TextClass import *"
   ]
  },
  {
   "cell_type": "markdown",
   "metadata": {},
   "source": [
    "## Descriptive Stats"
   ]
  },
  {
   "cell_type": "code",
   "execution_count": 6,
   "metadata": {},
   "outputs": [],
   "source": [
    "budget_2019 = GetText('data/fed_budget_19_20.txt', 'PTI 2019-2020', True)\n",
    "budget_2018 = GetText('data/fed_budget_18_19.txt', 'PML-N 2018-2019', True)\n",
    "budget_2017 = GetText('data/fed_budget_17_18.txt', 'PML-N 2017-2018', True)\n",
    "budget_2016 = GetText('data/fed_budget_16_17.txt', 'PML-N 2016-2017', True)\n",
    "budget_2015 = GetText('data/fed_budget_15_16.txt', 'PML-N 2015-2016', True)\n",
    "budget_2014 = GetText('data/fed_budget_14_15.txt', 'PML-N 2014-2015', True)\n",
    "budget_2013 = GetText('data/fed_budget_13_14.txt', 'PML-N 2013-2014', True)\n",
    "budget_2012 = GetText('data/fed_budget_12_13.txt', 'PPP 2012-2013', True)\n",
    "budget_2011 = GetText('data/fed_budget_11_12.txt', 'PPP 2011-2012', True)\n",
    "budget_2010 = GetText('data/fed_budget_10_11.txt', 'PPP 2010-2011', True)\n",
    "budget_2009 = GetText('data/fed_budget_09_10.txt', 'PPP 2009-2010', True)\n",
    "\n",
    "budget_list = [budget_2019, budget_2018, budget_2017, budget_2016, budget_2015, budget_2014, budget_2013,\n",
    "              budget_2012, budget_2011, budget_2010, budget_2009]"
   ]
  },
  {
   "cell_type": "code",
   "execution_count": 7,
   "metadata": {},
   "outputs": [
    {
     "name": "stdout",
     "output_type": "stream",
     "text": [
      "PTI 2019-2020\n",
      "polarity:  0.04\n",
      "subjectivity:  0.37\n",
      "[('tax', 206), ('proposed', 101), ('billion', 86), ('government', 58), ('income', 52), ('rate', 46), ('year', 43), ('shall', 41), ('sales', 37), ('million', 35), ('persons', 35), ('also', 35), ('may', 34), ('pakistan', 33), ('per', 32), ('sector', 30), ('increase', 29), ('rs', 29), ('rates', 26), ('duty', 26)]\n",
      "\n",
      "\n",
      "PML-N 2018-2019\n",
      "polarity:  0.07\n",
      "subjectivity:  0.36\n",
      "[('tax', 121), ('billion', 99), ('budget', 81), ('government', 79), ('proposed', 77), ('speech', 52), ('year', 51), ('page', 50), ('pakistan', 48), ('reduced', 43), ('years', 42), ('rate', 42), ('sector', 42), ('duty', 39), ('sales', 32), ('mr', 31), ('increased', 31), ('speaker', 30), ('federal', 30), ('percent', 29)]\n",
      "\n",
      "\n",
      "PML-N 2017-2018\n",
      "polarity:  0.09\n",
      "subjectivity:  0.37\n",
      "[('tax', 143), ('budget', 117), ('billion', 109), ('year', 90), ('sector', 85), ('government', 82), ('pakistan', 82), ('proposed', 76), ('speech', 75), ('page', 71), ('rate', 62), ('development', 51), ('duty', 48), ('reduced', 45), ('sales', 45), ('increase', 44), ('years', 39), ('new', 38), ('economic', 38), ('measures', 37)]\n",
      "\n",
      "\n",
      "PML-N 2016-2017\n",
      "polarity:  0.05\n",
      "subjectivity:  0.35\n",
      "[('tax', 176), ('billion', 94), ('budget', 82), ('proposed', 81), ('rate', 71), ('year', 55), ('sector', 55), ('speech', 50), ('government', 42), ('duty', 39), ('sales', 39), ('years', 38), ('pakistan', 37), ('income', 37), ('development', 34), ('mr', 33), ('speaker', 33), ('rs', 33), ('may', 32), ('increase', 31)]\n",
      "\n",
      "\n",
      "PML-N 2015-2016\n",
      "polarity:  0.07\n",
      "subjectivity:  0.37\n",
      "[('tax', 125), ('budget', 103), ('billion', 98), ('year', 78), ('government', 68), ('proposed', 63), ('pakistan', 62), ('speech', 61), ('rate', 61), ('sector', 48), ('development', 45), ('increase', 44), ('scheme', 42), ('income', 38), ('mr', 34), ('speaker', 34), ('economic', 34), ('also', 33), ('years', 32), ('power', 32)]\n",
      "\n",
      "\n",
      "PML-N 2014-2015\n",
      "polarity:  0.08\n",
      "subjectivity:  0.39\n",
      "[('tax', 119), ('budget', 101), ('billion', 79), ('government', 77), ('year', 69), ('sector', 65), ('speech', 57), ('pakistan', 56), ('june', 56), ('draft', 51), ('country', 43), ('rate', 38), ('development', 38), ('program', 37), ('increase', 36), ('economic', 34), ('made', 34), ('growth', 33), ('also', 32), ('mr', 29)]\n",
      "\n",
      "\n",
      "PML-N 2013-2014\n",
      "polarity:  0.09\n",
      "subjectivity:  0.42\n",
      "[('tax', 93), ('budget', 67), ('billion', 61), ('government', 56), ('speech', 46), ('sector', 38), ('country', 37), ('also', 37), ('income', 31), ('mr', 29), ('speaker', 29), ('economic', 28), ('program', 27), ('year', 27), ('development', 25), ('pakistan', 24), ('economy', 24), ('made', 24), ('rate', 23), ('minister', 22)]\n",
      "\n",
      "\n",
      "PPP 2012-2013\n",
      "polarity:  0.1\n",
      "subjectivity:  0.37\n",
      "[('billion', 69), ('government', 61), ('tax', 57), ('year', 51), ('pakistan', 30), ('years', 30), ('last', 26), ('sector', 26), ('also', 25), ('federal', 25), ('rs', 23), ('income', 20), ('people', 19), ('economic', 18), ('rate', 18), ('development', 18), ('financial', 17), ('prices', 16), ('sales', 16), ('country', 15)]\n",
      "\n",
      "\n",
      "PPP 2011-2012\n",
      "polarity:  0.1\n",
      "subjectivity:  0.4\n",
      "[('tax', 70), ('madam', 68), ('speaker', 68), ('billion', 62), ('government', 56), ('year', 33), ('sector', 32), ('rs', 30), ('also', 27), ('growth', 26), ('us', 25), ('country', 22), ('people', 22), ('fiscal', 22), ('development', 22), ('budget', 21), ('pakistan', 21), ('public', 21), ('economy', 20), ('federal', 20)]\n",
      "\n",
      "\n",
      "PPP 2010-2011\n",
      "polarity:  0.07\n",
      "subjectivity:  0.4\n",
      "[('proposed', 35), ('government', 34), ('madam', 32), ('speaker', 32), ('budget', 32), ('tax', 28), ('would', 27), ('also', 26), ('billion', 26), ('rs', 23), ('year', 19), ('economic', 19), ('energy', 18), ('sector', 17), ('pakistan', 16), ('economy', 15), ('rate', 15), ('poor', 14), ('order', 13), ('development', 13)]\n",
      "\n",
      "\n",
      "PPP 2009-2010\n",
      "polarity:  0.06\n",
      "subjectivity:  0.37\n",
      "[('rs', 101), ('billion', 78), ('government', 72), ('year', 71), ('speaker', 55), ('madam', 54), ('fiscal', 54), ('would', 51), ('sector', 44), ('development', 40), ('tax', 40), ('programme', 38), ('pakistan', 33), ('percent', 30), ('proposed', 29), ('also', 23), ('national', 22), ('million', 22), ('public', 22), ('country', 21)]\n",
      "\n",
      "\n"
     ]
    }
   ],
   "source": [
    "document_stats(budget_list)"
   ]
  },
  {
   "cell_type": "code",
   "execution_count": null,
   "metadata": {},
   "outputs": [],
   "source": []
  }
 ],
 "metadata": {
  "kernelspec": {
   "display_name": "Python 3",
   "language": "python",
   "name": "python3"
  },
  "language_info": {
   "codemirror_mode": {
    "name": "ipython",
    "version": 3
   },
   "file_extension": ".py",
   "mimetype": "text/x-python",
   "name": "python",
   "nbconvert_exporter": "python",
   "pygments_lexer": "ipython3",
   "version": "3.7.3"
  }
 },
 "nbformat": 4,
 "nbformat_minor": 2
}
